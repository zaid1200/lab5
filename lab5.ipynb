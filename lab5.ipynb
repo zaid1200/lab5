{
 "cells": [
  {
   "cell_type": "code",
   "execution_count": 49,
   "metadata": {},
   "outputs": [],
   "source": [
    "import numpy as np\n",
    "import matplotlib.pyplot as plt\n",
    "import pandas as pd\n",
    "%matplotlib inline"
   ]
  },
  {
   "cell_type": "code",
   "execution_count": 17,
   "metadata": {},
   "outputs": [],
   "source": [
    "df = pd.read_csv(r'C:\\Users\\zali2\\Downloads\\MOCK_DATA.csv')"
   ]
  },
  {
   "cell_type": "code",
   "execution_count": 18,
   "metadata": {},
   "outputs": [
    {
     "data": {
      "text/html": [
       "<div>\n",
       "<style>\n",
       "    .dataframe thead tr:only-child th {\n",
       "        text-align: right;\n",
       "    }\n",
       "\n",
       "    .dataframe thead th {\n",
       "        text-align: left;\n",
       "    }\n",
       "\n",
       "    .dataframe tbody tr th {\n",
       "        vertical-align: top;\n",
       "    }\n",
       "</style>\n",
       "<table border=\"1\" class=\"dataframe\">\n",
       "  <thead>\n",
       "    <tr style=\"text-align: right;\">\n",
       "      <th></th>\n",
       "      <th>Grade</th>\n",
       "    </tr>\n",
       "  </thead>\n",
       "  <tbody>\n",
       "    <tr>\n",
       "      <th>0</th>\n",
       "      <td>71.68</td>\n",
       "    </tr>\n",
       "    <tr>\n",
       "      <th>1</th>\n",
       "      <td>75.80</td>\n",
       "    </tr>\n",
       "    <tr>\n",
       "      <th>2</th>\n",
       "      <td>68.97</td>\n",
       "    </tr>\n",
       "    <tr>\n",
       "      <th>3</th>\n",
       "      <td>71.08</td>\n",
       "    </tr>\n",
       "    <tr>\n",
       "      <th>4</th>\n",
       "      <td>70.72</td>\n",
       "    </tr>\n",
       "  </tbody>\n",
       "</table>\n",
       "</div>"
      ],
      "text/plain": [
       "   Grade\n",
       "0  71.68\n",
       "1  75.80\n",
       "2  68.97\n",
       "3  71.08\n",
       "4  70.72"
      ]
     },
     "execution_count": 18,
     "metadata": {},
     "output_type": "execute_result"
    }
   ],
   "source": [
    "df.head()"
   ]
  },
  {
   "cell_type": "code",
   "execution_count": 29,
   "metadata": {},
   "outputs": [],
   "source": [
    "def letterGrade(score):\n",
    "    if score >= 90:\n",
    "        letter = 'A'\n",
    "    else:\n",
    "        if score >=80:\n",
    "            letter = 'B'\n",
    "        else:\n",
    "            if score >=70:\n",
    "                letter = 'C'\n",
    "            else:\n",
    "                if score >=60:\n",
    "                    letter = 'D'\n",
    "                else:\n",
    "                    letter = 'F'\n",
    "    return letter         "
   ]
  },
  {
   "cell_type": "code",
   "execution_count": 30,
   "metadata": {},
   "outputs": [
    {
     "data": {
      "text/plain": [
       "'B'"
      ]
     },
     "execution_count": 30,
     "metadata": {},
     "output_type": "execute_result"
    }
   ],
   "source": [
    "letterGrade(89.999999)"
   ]
  },
  {
   "cell_type": "code",
   "execution_count": 31,
   "metadata": {},
   "outputs": [
    {
     "data": {
      "text/plain": [
       "Index(['Grade'], dtype='object')"
      ]
     },
     "execution_count": 31,
     "metadata": {},
     "output_type": "execute_result"
    }
   ],
   "source": [
    "df.keys()"
   ]
  },
  {
   "cell_type": "code",
   "execution_count": 32,
   "metadata": {},
   "outputs": [],
   "source": [
    "scores = df.Grade.values"
   ]
  },
  {
   "cell_type": "code",
   "execution_count": 33,
   "metadata": {},
   "outputs": [
    {
     "data": {
      "text/plain": [
       "array([ 71.68,  75.8 ,  68.97,  71.08,  70.72,  75.53,  69.55,  87.36,\n",
       "        72.63,  80.68,  52.65,  67.93,  62.94,  82.77,  71.48,  67.31,\n",
       "        70.25,  82.12,  76.84,  82.44,  52.89,  84.29,  76.45,  72.29,\n",
       "        71.49,  69.04,  62.01,  58.2 ,  69.65,  78.91,  73.48,  77.53,\n",
       "        61.26,  69.59,  68.78,  80.47,  66.76,  79.84,  76.83,  73.41,\n",
       "        67.47,  49.67,  64.83,  75.19,  61.38,  77.21,  60.08,  70.12,\n",
       "        62.04,  80.37,  60.61,  70.95,  76.23,  57.14,  82.93,  86.25,\n",
       "        66.29,  75.07,  76.3 ,  83.62,  69.51,  78.39,  59.67,  67.74,\n",
       "        70.12,  68.05,  57.98,  67.76,  69.33,  65.27,  70.2 ,  69.58,\n",
       "        57.38,  64.64,  64.79,  53.48,  71.02,  72.39,  63.54,  62.45,\n",
       "        77.27,  81.73,  99.45,  85.41,  71.46,  72.69,  67.97,  76.95,\n",
       "        60.53,  67.58,  61.36,  60.39,  78.41,  77.7 ,  75.45,  73.14,\n",
       "        70.53,  80.02,  74.05,  64.65,  63.76,  66.29,  70.71,  66.36,\n",
       "        55.35,  63.87,  76.54,  52.34,  51.48,  60.6 ,  68.41,  69.46,\n",
       "        89.03,  84.04,  67.76,  69.08,  64.18,  77.57,  67.75,  77.08,\n",
       "        66.64,  84.35,  66.51,  53.07,  76.63,  69.09,  75.  ,  76.81,\n",
       "        45.6 ,  59.46,  54.05,  69.04,  72.25,  65.28,  76.32,  81.59,\n",
       "        77.07,  67.57,  84.82,  74.36,  71.3 ,  88.07,  59.73,  87.34,\n",
       "        61.24,  67.23,  49.36,  71.78,  66.55,  71.1 ,  54.83,  76.48,\n",
       "        70.58,  75.3 ,  63.55,  77.4 ,  73.92,  65.29,  73.12,  62.12,\n",
       "        75.13,  70.55,  66.16,  76.21,  75.05,  70.27,  63.69,  56.23,\n",
       "        67.74,  74.16,  62.52,  50.69,  64.35,  67.02,  71.36,  66.52,\n",
       "        75.52,  64.98,  74.16,  87.19,  81.88,  79.19,  65.02,  75.69,\n",
       "        59.32,  63.44,  70.35,  61.26,  63.09,  67.59,  79.82,  75.87,\n",
       "        49.77,  68.55,  67.58,  68.18,  70.27,  69.49,  60.39,  71.76,\n",
       "        69.58,  73.8 ,  67.87,  73.62,  72.3 ,  81.46,  68.71,  64.4 ,\n",
       "        71.09,  77.14,  76.6 ,  81.64,  62.21,  70.69,  73.36,  59.44,\n",
       "        64.91,  65.32,  79.01,  84.9 ,  80.94,  71.51,  85.  ,  75.01,\n",
       "        49.67,  62.74,  68.64,  86.74,  68.93,  66.11,  73.83,  62.66,\n",
       "        69.21,  65.31,  86.8 ,  64.41,  66.71,  63.83,  60.54,  67.36,\n",
       "        71.48,  64.26,  74.52,  62.54,  82.28,  70.41,  65.1 ,  63.53,\n",
       "        50.32,  51.97,  89.1 ,  94.82,  69.18,  82.95,  56.09,  73.86,\n",
       "        54.75,  63.36,  75.67,  88.89,  78.94,  72.32,  57.3 ,  76.75,\n",
       "        75.11,  72.73,  78.88,  90.18,  49.56,  41.08,  58.72,  70.68,\n",
       "        63.09,  81.65,  78.42,  83.15,  62.94,  69.64,  82.76,  80.84,\n",
       "        57.86,  65.86,  89.67,  73.98,  64.13,  67.14,  75.24,  52.33,\n",
       "        77.7 ,  76.28,  81.51,  74.62,  68.34,  73.44,  78.3 ,  62.14,\n",
       "        76.15,  82.09,  66.27,  82.64,  76.14,  79.34,  56.12,  59.51,\n",
       "        64.34,  77.39,  83.3 ,  55.32,  64.83,  60.68,  68.95,  88.59,\n",
       "        79.96,  87.41,  50.09,  72.5 ,  65.19,  59.05,  55.73,  50.82,\n",
       "        56.46,  52.48,  75.43,  58.21,  67.9 ,  78.86,  83.02,  77.5 ,\n",
       "        57.43,  58.99,  64.65,  75.29,  80.54,  76.46,  67.24,  59.99,\n",
       "        82.58,  72.18,  78.83,  69.61,  69.16,  61.26,  71.86,  79.92,\n",
       "        75.08,  76.6 ,  63.17,  68.82,  62.28,  65.49,  90.67,  89.04,\n",
       "        78.16,  79.34,  60.04,  72.81,  65.85,  71.15,  56.44,  73.8 ,\n",
       "        72.59,  73.87,  59.65,  69.5 ,  68.28,  76.59,  66.54,  73.72,\n",
       "        58.97,  69.78,  91.2 ,  71.09,  69.75,  62.6 ,  69.43,  66.63,\n",
       "        68.44,  86.58,  79.83,  63.29,  69.87,  61.3 ,  54.33,  60.06,\n",
       "        71.79,  69.82,  62.13,  61.49,  69.59,  62.53,  72.15,  71.2 ,\n",
       "        69.03,  69.07,  83.81,  90.84,  62.23,  67.61,  54.48,  67.18,\n",
       "        69.7 ,  65.87,  71.08,  91.87,  52.16,  63.27,  62.34,  77.99,\n",
       "        81.16,  73.05,  73.51,  66.2 ,  79.24,  72.16,  64.39,  90.31,\n",
       "        70.8 ,  59.58,  74.49,  57.48,  58.55,  71.99,  66.48,  73.67,\n",
       "        72.7 ,  78.53,  67.59,  72.72,  77.27,  76.87,  80.79,  76.75,\n",
       "        72.4 ,  70.21,  55.26,  50.28,  67.19,  57.05,  78.29,  58.04,\n",
       "        82.6 ,  74.09,  60.27,  73.23,  55.46,  69.07,  77.71,  74.09,\n",
       "        55.99,  56.88,  61.51,  65.99,  55.95,  62.47,  66.84,  74.35,\n",
       "        64.96,  76.24,  63.44,  64.6 ,  75.99,  59.93,  73.85,  76.13,\n",
       "        73.67,  46.02,  66.45,  69.52,  85.79,  56.55,  65.96,  67.54,\n",
       "        80.24,  51.19,  68.6 ,  71.17,  77.23,  68.52,  64.62,  59.72,\n",
       "        63.96,  66.47,  69.62,  74.64,  61.17,  67.42,  77.99,  64.86,\n",
       "        67.22,  79.43,  62.11,  76.  ,  75.3 ,  66.44,  66.83,  69.75,\n",
       "        78.42,  60.51,  53.46,  58.81,  80.36,  77.65,  40.47,  75.98,\n",
       "        64.62,  70.8 ,  58.32,  72.17,  61.83,  67.67,  51.41,  70.58,\n",
       "        60.6 ,  71.83,  49.99,  68.73,  59.15,  59.99,  73.59,  60.43,\n",
       "        58.32,  61.19,  71.89,  73.28,  51.95,  64.93,  68.79,  84.22,\n",
       "        67.33,  57.08,  69.98,  94.03,  78.18,  57.78,  71.  ,  71.29,\n",
       "        61.11,  71.16,  89.11,  53.95,  75.65,  60.19,  69.97,  64.14,\n",
       "        75.09,  71.67,  67.33,  71.68,  69.62,  57.85,  64.49,  73.54,\n",
       "        57.34,  70.08,  75.36,  74.06,  79.88,  76.04,  58.62,  86.07,\n",
       "        64.41,  81.18,  78.66,  80.34,  73.89,  66.74,  67.16,  65.74,\n",
       "        63.2 ,  59.36,  65.4 ,  71.04,  65.92,  65.33,  68.05,  86.05,\n",
       "        68.93,  69.59,  80.  ,  67.09,  76.83,  76.53,  61.61,  71.4 ,\n",
       "        68.79,  54.03,  66.02,  66.51,  65.13,  80.45,  70.62,  70.7 ,\n",
       "        66.02,  72.82,  71.55,  72.01,  66.15,  72.35,  87.25,  65.12,\n",
       "        75.73,  63.83,  71.49,  75.3 ,  72.29,  71.7 ,  73.2 ,  73.58,\n",
       "        66.96,  67.41,  75.86,  87.85,  97.35,  58.22,  61.75,  68.68,\n",
       "        82.07,  67.37,  63.91,  76.78,  66.7 ,  77.36,  72.7 ,  85.79,\n",
       "        41.84,  84.82,  73.11,  71.18,  73.82,  77.36,  72.8 ,  74.86,\n",
       "        77.77,  62.91,  63.52,  64.91,  82.29,  64.21,  85.75,  63.15,\n",
       "        75.39,  78.65,  79.26,  66.42,  60.47,  49.02,  93.24,  72.62,\n",
       "        71.94,  66.89,  69.6 ,  68.12,  66.54,  71.65,  69.49,  82.53,\n",
       "        71.83,  77.04,  66.33,  59.45,  69.34,  83.27,  59.73,  80.32,\n",
       "        71.71,  52.43,  73.92,  79.36,  76.72,  72.77,  56.04,  75.97,\n",
       "        68.05,  57.53,  68.29,  81.71,  69.91,  71.83,  88.07,  50.54,\n",
       "        71.56,  59.91,  59.44,  71.7 ,  74.98,  39.38,  64.55,  74.65,\n",
       "        54.5 ,  49.61,  62.28,  82.18,  76.28,  74.46,  63.19,  69.56,\n",
       "        79.23,  71.46,  66.75,  75.25,  70.11,  85.89,  64.18,  80.85,\n",
       "        79.63,  64.87,  67.16,  64.54,  55.25,  80.81,  68.59,  91.84,\n",
       "        78.66,  46.52,  51.13,  64.42,  64.34,  68.95,  58.09,  90.27,\n",
       "        74.07,  59.63,  64.96,  69.85,  67.78,  63.36,  66.33,  83.89,\n",
       "        60.64,  67.42,  76.05,  54.98,  73.29,  72.88,  61.31,  55.9 ,\n",
       "        53.07,  73.46,  75.8 ,  71.75,  61.79,  67.5 ,  55.4 ,  61.65,\n",
       "        66.77,  61.86,  72.36,  79.46,  61.66,  55.62,  66.72,  64.61,\n",
       "        65.5 ,  73.91,  68.3 ,  63.18,  59.42,  76.03,  81.61,  73.08,\n",
       "        59.3 ,  61.97,  77.41,  79.42,  74.88,  74.38,  67.5 ,  77.85,\n",
       "        62.29,  66.37,  73.13,  79.58,  76.06,  67.44,  61.97,  71.22,\n",
       "        62.64,  67.57,  77.59,  86.17,  62.62,  73.36,  79.13,  59.83,\n",
       "        74.13,  80.65,  60.96,  76.78,  66.41,  56.57,  57.57,  84.34,\n",
       "        78.23,  69.83,  69.49,  77.04,  61.29,  53.87,  68.3 ,  76.57,\n",
       "        79.09,  55.69,  74.6 ,  72.09,  81.92,  62.31,  68.74,  71.95,\n",
       "        63.58,  89.87,  88.42,  87.94,  57.27,  79.66,  56.47,  87.14,\n",
       "        79.19,  67.61,  62.96,  76.99,  56.95,  61.08,  71.72,  76.92,\n",
       "        77.14,  70.64,  63.15,  74.53,  73.97,  72.63,  56.19,  84.91,\n",
       "        72.59,  79.74,  63.86,  62.94,  72.66,  71.49,  68.46,  86.23,\n",
       "        78.27,  64.78,  79.48,  78.41,  62.89,  68.92,  65.16,  58.86,\n",
       "        73.89,  73.91,  84.96,  58.2 ,  55.31,  68.97,  66.14,  56.46,\n",
       "        70.72,  72.84,  78.03,  93.34,  69.65,  68.41,  73.25,  66.01,\n",
       "        73.89,  67.93,  64.12,  76.88,  44.36,  79.04,  61.29,  70.95,\n",
       "        68.36,  71.84,  70.86,  68.47,  72.76,  84.4 ,  59.26,  66.23,\n",
       "        71.4 ,  66.63,  74.86,  57.53,  75.32,  74.  ,  73.77,  63.69,\n",
       "        70.69,  65.97,  69.58,  68.24,  67.3 ,  54.04,  67.04,  85.34,\n",
       "        78.54,  77.39,  65.98,  80.23,  56.96,  84.06,  82.07,  68.75,\n",
       "        72.56,  65.9 ,  77.2 ,  78.75,  79.86,  71.1 ,  67.89,  74.8 ,\n",
       "        64.75,  81.13,  88.33,  75.56,  73.65,  59.74,  78.62,  83.62,\n",
       "        50.64,  92.25,  70.35,  74.12,  49.34,  60.19,  63.28,  72.72,\n",
       "        76.08,  86.36,  65.29,  68.99,  70.66,  65.97,  84.78,  85.18,\n",
       "        81.46,  69.99,  65.65,  80.65,  78.01,  60.45,  57.49,  76.22,\n",
       "        76.99,  76.92,  62.16,  70.68,  94.56,  69.94,  76.29,  89.77,\n",
       "        73.38,  64.13,  83.05,  50.03,  61.56,  73.41,  75.13,  69.76,\n",
       "        54.59,  75.84,  76.76,  76.17,  55.36,  61.88,  79.31,  61.93,\n",
       "        71.82,  76.26,  57.32,  72.09,  65.22,  58.84,  56.67,  58.1 ,\n",
       "        70.  ,  75.24,  76.43,  58.92,  68.72,  78.43,  74.72,  55.83,\n",
       "        70.54,  72.69,  61.34,  81.96,  72.27,  69.68,  84.63,  82.3 ,\n",
       "        60.4 ,  78.54,  62.38,  75.2 ,  91.6 ,  82.06,  66.63,  74.92])"
      ]
     },
     "execution_count": 33,
     "metadata": {},
     "output_type": "execute_result"
    }
   ],
   "source": [
    "scores"
   ]
  },
  {
   "cell_type": "code",
   "execution_count": 46,
   "metadata": {},
   "outputs": [],
   "source": [
    "letters = []\n",
    "for score in scores:\n",
    "    letters.append(letterGrade(score))"
   ]
  },
  {
   "cell_type": "code",
   "execution_count": 53,
   "metadata": {},
   "outputs": [],
   "source": [
    "df = pd.DataFrame({'Score':scores,\"Letter\":letters})"
   ]
  },
  {
   "cell_type": "code",
   "execution_count": 54,
   "metadata": {},
   "outputs": [
    {
     "data": {
      "text/plain": [
       "<matplotlib.axes._subplots.AxesSubplot at 0x20962c42128>"
      ]
     },
     "execution_count": 54,
     "metadata": {},
     "output_type": "execute_result"
    },
    {
     "data": {
      "image/png": "[encoded data removed]",
      "text/plain": [
       "<matplotlib.figure.Figure at 0x20962655eb8>"
      ]
     },
     "metadata": {},
     "output_type": "display_data"
    }
   ],
   "source": [
    "df['Letter'].value_counts().plot('bar')"
   ]
  },
  {
   "cell_type": "code",
   "execution_count": 68,
   "metadata": {},
   "outputs": [
    {
     "data": {
      "text/plain": [
       "<matplotlib.axes._subplots.AxesSubplot at 0x2096467c4e0>"
      ]
     },
     "execution_count": 68,
     "metadata": {},
     "output_type": "execute_result"
    },
    {
     "data": {
      "image/png": "[encoded data removed]",
      "text/plain": [
       "<matplotlib.figure.Figure at 0x209644f2550>"
      ]
     },
     "metadata": {},
     "output_type": "display_data"
    }
   ],
   "source": [
    "df['Score'].hist(bins=[df['Score'].min(),60,70,80,90,100])"
   ]
  },
  {
   "cell_type": "code",
   "execution_count": 70,
   "metadata": {},
   "outputs": [
    {
     "data": {
      "text/plain": [
       "<matplotlib.axes._subplots.AxesSubplot at 0x2096469c0b8>"
      ]
     },
     "execution_count": 70,
     "metadata": {},
     "output_type": "execute_result"
    },
    {
     "data": {
      "image/png": "[encoded data removed]",
      "text/plain": [
       "<matplotlib.figure.Figure at 0x2096432fef0>"
      ]
     },
     "metadata": {},
     "output_type": "display_data"
    }
   ],
   "source": [
    "df['Score'].plot.box()"
   ]
  },
  {
   "cell_type": "code",
   "execution_count": 77,
   "metadata": {},
   "outputs": [],
   "source": [
    "df['Score2'] = df['Score']+np.random.rand()*3"
   ]
  },
  {
   "cell_type": "code",
   "execution_count": 79,
   "metadata": {},
   "outputs": [
    {
     "data": {
      "text/plain": [
       "<matplotlib.axes._subplots.AxesSubplot at 0x2096476bc88>"
      ]
     },
     "execution_count": 79,
     "metadata": {},
     "output_type": "execute_result"
    },
    {
     "data": {
      "image/png": "[encoded data removed]",
      "text/plain": [
       "<matplotlib.figure.Figure at 0x2096451dbe0>"
      ]
     },
     "metadata": {},
     "output_type": "display_data"
    }
   ],
   "source": [
    "df.plot.box()"
   ]
  },
  {
   "cell_type": "code",
   "execution_count": null,
   "metadata": {},
   "outputs": [],
   "source": []
  }
 ],
 "metadata": {
  "kernelspec": {
   "display_name": "Python 3",
   "language": "python",
   "name": "python3"
  },
  "language_info": {
   "codemirror_mode": {
    "name": "ipython",
    "version": 3
   },
   "file_extension": ".py",
   "mimetype": "text/x-python",
   "name": "python",
   "nbconvert_exporter": "python",
   "pygments_lexer": "ipython3",
   "version": "3.6.3"
  }
 },
 "nbformat": 4,
 "nbformat_minor": 2
}
